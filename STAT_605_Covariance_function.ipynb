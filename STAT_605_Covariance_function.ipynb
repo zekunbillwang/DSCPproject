{
  "nbformat": 4,
  "nbformat_minor": 0,
  "metadata": {
    "colab": {
      "provenance": []
    },
    "kernelspec": {
      "name": "python3",
      "display_name": "Python 3"
    },
    "language_info": {
      "name": "python"
    }
  },
  "cells": [
    {
      "cell_type": "code",
      "source": [
        "!pwd"
      ],
      "metadata": {
        "colab": {
          "base_uri": "https://localhost:8080/"
        },
        "id": "ub8VuR1Bwqb7",
        "outputId": "60000b5a-e138-4471-b581-732e759ceae2"
      },
      "execution_count": 2,
      "outputs": [
        {
          "output_type": "stream",
          "name": "stdout",
          "text": [
            "/content\n"
          ]
        }
      ]
    },
    {
      "cell_type": "code",
      "source": [
        "import csv\n",
        "\n",
        "stars=[]\n",
        "date=[]\n",
        "product_id=[]\n",
        "\n",
        "with open('/content/drive/MyDrive/STAT 605 /amazon_reviews_us_Musical_Instruments_v1_00 2.tsv', newline='', encoding='utf-8') as tsvfile:\n",
        "    tsvreader = csv.DictReader(tsvfile, delimiter='\\t')\n",
        "\n",
        "    for row in tsvreader:\n",
        "        stars.append(row['star_rating'])\n",
        "        date.append(row['review_date'])\n",
        "        product_id.append(row['product_id'])\n"
      ],
      "metadata": {
        "id": "AtiBSjsww4vS"
      },
      "execution_count": 1,
      "outputs": []
    },
    {
      "cell_type": "code",
      "source": [
        "import pandas as pd\n",
        "data = {'star_rating': stars, 'review_date': date,'product_id':product_id}\n",
        "\n",
        "df = pd.DataFrame(data)"
      ],
      "metadata": {
        "colab": {
          "base_uri": "https://localhost:8080/"
        },
        "id": "4bZQ0wRF-6ax",
        "outputId": "787252de-a9bc-47a1-99aa-47f0aab0bc85"
      },
      "execution_count": 28,
      "outputs": [
        {
          "output_type": "stream",
          "name": "stdout",
          "text": [
            "       star_rating review_date  product_id\n",
            "0                3  2015-08-31  B00HH62VB6\n",
            "1                5  2015-08-31  B003LRN53I\n",
            "2                3  2015-08-31  B0006VMBHI\n",
            "3                5  2015-08-31  B002B55TRG\n",
            "4                5  2015-08-31  B00N1YPXW2\n",
            "...            ...         ...         ...\n",
            "904035           4  2000-01-11  B00002DDSF\n",
            "904036           5  1999-12-29  B00002JV63\n",
            "904037           4  1999-12-22  B00002JV63\n",
            "904038           4  1999-12-17  B00002F2IZ\n",
            "904039           5  1999-12-13  B00002JV63\n",
            "\n",
            "[904040 rows x 3 columns]\n"
          ]
        }
      ]
    },
    {
      "cell_type": "code",
      "source": [
        "df['review_date']"
      ],
      "metadata": {
        "colab": {
          "base_uri": "https://localhost:8080/"
        },
        "id": "nnF62jOf_Q_A",
        "outputId": "6afb1502-991d-4937-bd26-c7da15dcecb5"
      },
      "execution_count": 29,
      "outputs": [
        {
          "output_type": "execute_result",
          "data": {
            "text/plain": [
              "0         2015-08-31\n",
              "1         2015-08-31\n",
              "2         2015-08-31\n",
              "3         2015-08-31\n",
              "4         2015-08-31\n",
              "             ...    \n",
              "904035    2000-01-11\n",
              "904036    1999-12-29\n",
              "904037    1999-12-22\n",
              "904038    1999-12-17\n",
              "904039    1999-12-13\n",
              "Name: review_date, Length: 904040, dtype: object"
            ]
          },
          "metadata": {},
          "execution_count": 29
        }
      ]
    },
    {
      "cell_type": "code",
      "source": [
        "df['review_date'] = pd.to_datetime(df['review_date'], errors='coerce')\n",
        "\n",
        "df = df.dropna(subset=['review_date'])"
      ],
      "metadata": {
        "id": "9Eb9s4AncJbp"
      },
      "execution_count": 30,
      "outputs": []
    },
    {
      "cell_type": "code",
      "source": [
        "df['star_rating'] = df['star_rating'].astype(int)"
      ],
      "metadata": {
        "id": "KMw02jHpeA7c"
      },
      "execution_count": 31,
      "outputs": []
    },
    {
      "cell_type": "code",
      "source": [
        "import pandas as pd\n",
        "\n",
        "# Group by 'review_date', calculate the mean of 'star_rating', and count the number of reviews\n",
        "daily_stats = df.groupby('review_date').agg({\n",
        "    'star_rating': 'mean',  # Calculate the mean star rating\n",
        "    'review_date': 'size'   # Count the number of reviews per day\n",
        "}).rename(columns={'review_date': 'review_count'}).reset_index()\n",
        "\n",
        "# Output the result\n",
        "print(daily_stats)"
      ],
      "metadata": {
        "colab": {
          "base_uri": "https://localhost:8080/"
        },
        "id": "M52AtOR3bEwh",
        "outputId": "04db63ab-bcc0-4bc3-9c53-c6d93fc1c535"
      },
      "execution_count": 32,
      "outputs": [
        {
          "output_type": "stream",
          "name": "stdout",
          "text": [
            "     review_date  star_rating  review_count\n",
            "0     1999-12-13     5.000000             1\n",
            "1     1999-12-17     4.000000             1\n",
            "2     1999-12-22     4.000000             1\n",
            "3     1999-12-29     5.000000             1\n",
            "4     2000-01-11     4.000000             1\n",
            "...          ...          ...           ...\n",
            "4553  2015-08-27     4.312326          1079\n",
            "4554  2015-08-28     4.281130           779\n",
            "4555  2015-08-29     4.268770           919\n",
            "4556  2015-08-30     4.220023           859\n",
            "4557  2015-08-31     4.297619          1008\n",
            "\n",
            "[4558 rows x 3 columns]\n"
          ]
        }
      ]
    },
    {
      "cell_type": "code",
      "source": [
        "data=daily_stats['star_rating']"
      ],
      "metadata": {
        "id": "ciLTMalNd5Ua"
      },
      "execution_count": 33,
      "outputs": []
    },
    {
      "cell_type": "code",
      "source": [
        "import numpy as np\n",
        "\n",
        "# Function to compute autocorrelation values for all lags from 1 to n-1\n",
        "def autocorrelation_all_lags(X):\n",
        "    n = len(X)\n",
        "    X_mean = np.mean(X)\n",
        "    autocorr_values = []\n",
        "    for h in range(1, n):\n",
        "        autocorr = np.sum((X[h:] - X_mean) * (X[:n-h] - X_mean)) / n\n",
        "        autocorr_values.append(autocorr)\n",
        "    return autocorr_values\n",
        "\n",
        "# Calculate autocorrelation values for all lags from 1 to n-1\n",
        "all_autocorrelations = autocorrelation_all_lags(data)"
      ],
      "metadata": {
        "id": "Dp4k8Gg8er1f"
      },
      "execution_count": 34,
      "outputs": []
    }
  ]
}